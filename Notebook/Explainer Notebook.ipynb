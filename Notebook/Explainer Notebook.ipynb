{
 "cells": [
  {
   "cell_type": "markdown",
   "metadata": {},
   "source": [
    "# The best place to live in New York City\n",
    "##   - with 311 Service Requests dataset"
   ]
  },
  {
   "cell_type": "markdown",
   "metadata": {},
   "source": [
    "<img src='https://pbs.twimg.com/profile_images/841299124544798721/nOj3efFC.jpg'>"
   ]
  },
  {
   "cell_type": "markdown",
   "metadata": {},
   "source": [
    "<img src=\"https://brightcove04pmdo-a.akamaihd.net/5104226627001/5104226627001_5244714388001_5205235439001-vs.jpg?pubId=5104226627001&videoId=5205235439001\">"
   ]
  },
  {
   "cell_type": "markdown",
   "metadata": {
    "collapsed": true
   },
   "source": [
    "## 1. Motivation\n",
    "#### What is your dataset?\n",
    "Our dataset is '311 Service Requests' from NYC open dataset.\n",
    "#### Why did you choose this/these particular dataset(s)?\n",
    "#### What was your goal for the end user's experience?"
   ]
  },
  {
   "cell_type": "markdown",
   "metadata": {},
   "source": [
    "## 2. Basic stats. Let's understand the dataset better\n",
    "#### Write about your choices in data cleaning and preprocessing\n",
    "#### Write a short section that discusses the dataset stats (here you can recycle the work you did for Project Assignment A)"
   ]
  },
  {
   "cell_type": "markdown",
   "metadata": {},
   "source": [
    "## 3. Theory. Which theoretical tools did you use?\n",
    "#### Describe which machine learning tools you use and why the tools you've chosen are right for the problem you're solving.\n",
    "We chose to use multiple regression, KNN, and clustering. Since the Multiple regression would be suitable to deal with many different types of complaints in certain area.\n",
    "#### Talk about your model selection. How did you split the data in to test/training. Did you use cross validation?\n",
    "#### Explain the model performance. How did you measure it? Are your results what you expected?"
   ]
  },
  {
   "cell_type": "markdown",
   "metadata": {},
   "source": [
    "## 4. Visualizations\n",
    "#### Explain the visualizations you've chosen.\n",
    "#### Why are they right for the story you want to tell?"
   ]
  },
  {
   "cell_type": "markdown",
   "metadata": {},
   "source": [
    "\n",
    "## 5. Discussion. Think critically about your creation\n",
    "#### What went well?,\n",
    "#### What is still missing? What could be improved?, Why?"
   ]
  },
  {
   "cell_type": "code",
   "execution_count": null,
   "metadata": {
    "collapsed": true
   },
   "outputs": [],
   "source": []
  }
 ],
 "metadata": {
  "kernelspec": {
   "display_name": "Python 2",
   "language": "python",
   "name": "python2"
  },
  "language_info": {
   "codemirror_mode": {
    "name": "ipython",
    "version": 2
   },
   "file_extension": ".py",
   "mimetype": "text/x-python",
   "name": "python",
   "nbconvert_exporter": "python",
   "pygments_lexer": "ipython2",
   "version": "2.7.13"
  }
 },
 "nbformat": 4,
 "nbformat_minor": 2
}
